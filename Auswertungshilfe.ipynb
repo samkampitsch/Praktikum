{
 "cells": [
  {
   "cell_type": "markdown",
   "metadata": {
    "editable": false,
    "slideshow": {
     "slide_type": ""
    },
    "tags": []
   },
   "source": [
    "# Auswertungshilfe\n",
    "\n",
    "Im Folgenden finden Sie Rezepte und kurze Anleitungen, die Ihnen bei der Auswertung der Daten helfen sollen. Sie können jedes beliebige Tool für die Auswertung verwenden, solange Sie zu einem brauchbaren Ergebnis kommen. Stark empfohlen wird die Verwendung von Python-Skripten.\n",
    "\n",
    "\n",
    "## 1. Einlesen und Korrektur\n",
    "\n",
    "Korrektur der Aufnahmen mittels der gewonnenen Bias-, Dark- und Flat-Aufnahmen (siehe bereitgestelltes PDF in Moodle). Hierfür können Python-Funktionen verwendet werden. Beispiele von einfachen Operationen, siehe auch die [Astropy Dokumentation](https://docs.astropy.org/en/stable/io/fits/).\n",
    "\n",
    "Bias, Dark und Flat Korrektur werden an die Science Frames wie folgt angewandt:\n",
    "\n",
    "$$\n",
    "\\mathrm{science frame} = \\frac{\\mathrm{raw science frame}- \\mathrm{master dark} - \\mathrm{master bias}}{\\mathrm{master flat} /  \\langle\\mathrm{master flat}\\rangle }\n",
    "$$"
   ]
  },
  {
   "cell_type": "code",
   "execution_count": 1,
   "metadata": {},
   "outputs": [],
   "source": [
    "# Einlesen eines FITS-Bildes mit Header, Header enthält Metadata, Data als Matrix gespeichert\n",
    "################################\n",
    "#import numpy as np\n",
    "#from astropy.io import fits\n",
    "#data, header = fits.getdata(\"/path/to/file.fits\", header=True)\n",
    "\n",
    "# Korrektur mittels Biasframe (Subtraktion)\n",
    "#data = fits.getdata(\"/path/to/file.fits\")\n",
    "#bias = fits.getdata(\"/path/to/bias.fits\")\n",
    "#data_minus_bias = data - bias\n",
    "###\n",
    "\n",
    "#ist nur fürs einzelne einlesen"
   ]
  },
  {
   "cell_type": "code",
   "execution_count": null,
   "metadata": {},
   "outputs": [
    {
     "name": "stdout",
     "output_type": "stream",
     "text": [
      "5\n",
      "5\n",
      "5\n",
      "5\n",
      "2\n",
      "Nix corrected:\n",
      "[2098.2 2097.6 2097.  ... 2234.1 2236.9 2238.6]\n",
      "bias corrected:\n",
      "[354.64745098 354.02372549 357.04196078 ... 730.39176471 764.85529412\n",
      " 837.76431373]\n",
      "bias und dark corrected:\n",
      "[-1675.80431373 -1676.53647059 -1673.07411765 ... -1315.2427451\n",
      " -1280.88686275 -1208.29392157]\n",
      "bias und dark und flat  corrected:\n",
      "[-0.77016413 -0.77008854 -0.76883283 ... -0.36610374 -0.49598801\n",
      " -0.35169709]\n"
     ]
    }
   ],
   "source": [
    "# Finden von FITS-Bildern und Einlesen mittels List Comprehension. liest alle fit datein ein\n",
    "from glob import glob\n",
    "import numpy as np\n",
    "from astropy.io import fits\n",
    "\n",
    "#hier haben wir jetzt alle verschiedenen datenfiles in den verschiedenen data lists.\n",
    "pathsbias_images = sorted(glob(r\"C:\\Users\\raffi\\Desktop\\Praktikum-main\\gruppe6*bias.fit\"))\n",
    "biasdata_images = [fits.getdata(path) for path in pathsbias_images]\n",
    "pathsdark_images = sorted(glob(r\"C:\\Users\\raffi\\Desktop\\Praktikum-main\\gruppe6*dark.fit\"))\n",
    "darkdata_images = [fits.getdata(path) for path in pathsdark_images]\n",
    "pathsflat_images = sorted(glob(r\"C:\\Users\\raffi\\Desktop\\Praktikum-main\\gruppe6*flat.fit\"))\n",
    "flatdata_images = [fits.getdata(path) for path in pathsflat_images]\n",
    "pathsThAr_images = sorted(glob(r\"C:\\Users\\raffi\\Desktop\\Praktikum-main\\gruppe6*ThAr.fit\"))\n",
    "ThArdata_images = [fits.getdata(path) for path in pathsThAr_images]\n",
    "pathsfilter_images = sorted(glob(r\"C:\\Users\\raffi\\Desktop\\Praktikum-main\\gruppe6-0001_filter*fit\"))\n",
    "filterdata_images = [fits.getdata(path) for path in pathsfilter_images]\n",
    "print(len(biasdata_images)) #5\n",
    "print(len(darkdata_images)) #5\n",
    "print(len(flatdata_images) )#5\n",
    "print(len(ThArdata_images)) #5\n",
    "print(len(filterdata_images)) #2\n",
    "\n",
    "#avg values per pixel von den daten\n",
    "avg_values_thar= sum(ThArdata_images[:5]) / 5#\n",
    "avg_values_flat= sum(flatdata_images[:5]) / 5#\n",
    "avg_values_dark= sum(darkdata_images[:5]) / 5#\n",
    "avg_values_bias= sum(biasdata_images[:5]) / 5#\n",
    "\n",
    "#test ob sum passt, vom ersten pixel zumindest\n",
    "#print(ThArdata_images[0][0][0])\n",
    "#print(ThArdata_images[1][0][0])\n",
    "#print(ThArdata_images[2][0][0])\n",
    "#print(ThArdata_images[3][0][0])\n",
    "#print(ThArdata_images[4][0][0])\n",
    "\n",
    "#jetzt glaube ich muss ma den bias von unseren roh daten abziehen\n",
    "\n",
    "values_bias_corrected=avg_values_thar-avg_values_bias\n",
    "#test ob das corrected value passt\n",
    "#print(avg_values_thar[0][0])\n",
    "#print(avg_values_bias[0][0])\n",
    "#print(avg_values_thar[0][0]-avg_values_bias[0][0])\n",
    "#print(values_bias_corrected[0])\n",
    "\n",
    "spectrum_thar = np.nanmedian(avg_values_thar, axis=0)## Berechnung des Medians für jede Pixelsäule (z.B. für Masterbias)\n",
    "print(\"Nix corrected:\")\n",
    "print(spectrum_thar)\n",
    "\n",
    "spectrum_bias_corrected = np.mean(values_bias_corrected, axis=0)## Berechnung des Medians für jede Pixelsäule (z.B. für Masterbias)\n",
    "print(\"bias corrected:\")\n",
    "print(spectrum_bias_corrected)\n",
    "\n",
    "values_dark_bias_corrected=values_bias_corrected-avg_values_dark\n",
    "print(\"bias und dark corrected:\")\n",
    "values_dark_bias_spectrum = np.mean(values_dark_bias_corrected, axis=0)## Berechnung des Medians für jede Pixelsäule (z.B. für Masterbias)\n",
    "print(values_dark_bias_spectrum)\n",
    "\n",
    "print(\"bias und dark und flat  corrected:\")\n",
    "flat_corrected = values_dark_bias_corrected / avg_values_flat\n",
    "values_dark_bias_flat_spectrum = np.mean(flat_corrected, axis=0)## Berechnung des Medians für jede Pixelsäule (z.B. für Masterbias)\n",
    "print(values_dark_bias_flat_spectrum)\n",
    "\n",
    "\n"
   ]
  },
  {
   "cell_type": "markdown",
   "metadata": {
    "editable": false,
    "slideshow": {
     "slide_type": ""
    },
    "tags": []
   },
   "source": [
    "## 2. Stacken, Extrahieren 1D Spektrum\n",
    "\n",
    "Erstellung von gemittelten Aufnahmen zur Verbesserung des Signals und zum Zweck der Verwerfung von Ausreißern (z.B. Cosmics)."
   ]
  },
  {
   "cell_type": "code",
   "execution_count": null,
   "metadata": {},
   "outputs": [],
   "source": [
    "# Berechnung des Medians für jede Pixelsäule (z.B. für Masterbias)\n",
    "data_median = np.nanmedian(data_images, axis=0)"
   ]
  },
  {
   "cell_type": "markdown",
   "metadata": {
    "editable": false,
    "slideshow": {
     "slide_type": ""
    },
    "tags": []
   },
   "source": [
    "Extraktion eines 1-dimensionalen Spektrums: Von den kalibrierten Aufnahmen kann ein 1-dimensionales Spektrum extrahiert werden, indem ein Rechteck an der passenden Stelle ausgeschnitten wird. Darauf folgend berechnet man den Median entlang einer Pixelsäule."
   ]
  },
  {
   "cell_type": "code",
   "execution_count": null,
   "metadata": {},
   "outputs": [],
   "source": [
    "# Ausschneiden eines Rechtecks, basierend auf Pixelkoordinaten\n",
    "# Achten Sie auf die richtige Reihenfolge der x/y-Koordinaten!\n",
    "data_cutout = data[100:250, 300:320]\n",
    "\n",
    "# Alternativ entlang der gesamten x-Achse\n",
    "data_cutout = data[100:250, :]\n",
    "\n",
    "# Median entlang des Spalts für alle Pixel in Dispersionsrichtung\n",
    "spectrum_flat = np.nanmedian(data_cutout, axis=0)\n",
    "\n",
    "# Speichern als FITS-Tabelle\n",
    "from astropy.table import Table\n",
    "table = Table(data=[np.arange(len(spectrum_flat)), spectrum_flat], names=[\"Pixel\", \"Flux (ADU)\"])\n",
    "table.write(\"/path/to/table.fits\")"
   ]
  },
  {
   "cell_type": "markdown",
   "metadata": {
    "editable": false,
    "slideshow": {
     "slide_type": ""
    },
    "tags": []
   },
   "source": [
    "## 3. Kombinierte Flat Korrektur\n",
    "\n",
    "Idee: Das Flat das durch den Spektrographen aufgenommen wird enthält das Black-Body Spektrum der Tischlampe. Um dieses auszukorrigieren, nehmen wir ein zusätzliches Flat auf, das bereits korrigiert ist (Silva-Nova Spektrometer), durch welches das Spektrograph Flat dividiert werden soll. \n",
    "\n",
    "Dafür ist zu beachten dass das Wellenlängen-sampling der beiden Flats anders ist. Kontrollieren Sie nach in welchen Wellenlängbereichen die beiden Flats aufgenommen wurden. \n",
    "\n",
    "Tip: Mit Interpolieren (zB `interp1d`) kann man das erwünschte sampling für das Nova Spektrometer erhalten."
   ]
  },
  {
   "cell_type": "markdown",
   "metadata": {
    "editable": false,
    "slideshow": {
     "slide_type": ""
    },
    "tags": []
   },
   "source": [
    "## 4. Wellenlängekalibration\n",
    "Identifikation der ThAr-Linien. Zur Identifikation der Linien soll der beigelegte Linienatlas verwendet werden. Beachten Sie, dass das aufgenommene Spektrum Wellenlängen von 4200 bis 5500 abdeckt.\n",
    "\n",
    "Für das finden der peaks kann zB von `scipy.signal` die funktion `find_peaks`verwendet werden.\n"
   ]
  },
  {
   "cell_type": "markdown",
   "metadata": {
    "editable": false,
    "slideshow": {
     "slide_type": ""
    },
    "tags": []
   },
   "source": [
    "Erstellung einer Wellenlängenkalibration auf Basis der identifizierten Linien. Hierfür erstellen Sie einen Fit zwischen Pixelkoordinaten und Wellenlänge der identifizierten Linien. Sie können hierfür numpy verwenden"
   ]
  },
  {
   "cell_type": "code",
   "execution_count": null,
   "metadata": {},
   "outputs": [],
   "source": [
    "# Fit zwischen Pixel und Wellenlänge mittels Polynom 2. Ordnung\n",
    "coeff = np.polynomial.Polynomial.fit(pixel, wavelength, 2)"
   ]
  },
  {
   "cell_type": "markdown",
   "metadata": {
    "editable": false,
    "slideshow": {
     "slide_type": ""
    },
    "tags": []
   },
   "source": [
    "Die so erstellte Interpolation kann nun verwendet werden, um die Wellenlängenkalibration auf das Sonnenspektrum anzuwenden."
   ]
  },
  {
   "cell_type": "markdown",
   "metadata": {
    "editable": false,
    "slideshow": {
     "slide_type": ""
    },
    "tags": []
   },
   "source": [
    "## 5. Spektrale Auflösung\n",
    "\n",
    "Bestimmung der spektralen Auflösung aus der Breite der ThAr-Linien. Die Auflösung eines Spektrographen ist definiert durch\n",
    "$$\n",
    "        R \\equiv \\frac{\\lambda}{\\Delta \\lambda},\n",
    "$$\n",
    "wobei hier R die Auflösung des Spektrographen darstellt, $\\lambda$ die beobachtete Wellenlänge und $\\Delta \\lambda$ den kleinsten Unterschied in der Wellenlänge, den der Spektrograph auflösen kann. In der Praxis kann man für $\\Delta \\lambda$ die Full Width Half Maximum (FWHM) einer Linie bestimmen."
   ]
  },
  {
   "cell_type": "markdown",
   "metadata": {
    "editable": false,
    "slideshow": {
     "slide_type": ""
    },
    "tags": []
   },
   "source": [
    "## 6. Signal-to-Noise Ratio\n",
    "\n",
    "Abschätzung des Signal-Rausch-Verhältnisses (S/N) des Sonnenspektrums. Das S/N bei Spektren ist wegen unterschiedlicher Linienstärke wellenlängenabhängig. Die Angabe eines einzelnen S/N-Wertes für ein gesamtes Spektrum ist daher meistens nicht aussagekräftig. Zur Vereinfachung nehmen Sie an, dass die dominierende Rauschkomponente das Signal selbst ist, d.h. das Rauschen folgt einer Poissonverteilung nur abhängig vom Signal (den Gain der Kamera finden Sie im FITS-Header)."
   ]
  },
  {
   "cell_type": "code",
   "execution_count": null,
   "metadata": {},
   "outputs": [],
   "source": []
  }
 ],
 "metadata": {
  "kernelspec": {
   "display_name": "Python 3",
   "language": "python",
   "name": "python3"
  },
  "language_info": {
   "codemirror_mode": {
    "name": "ipython",
    "version": 3
   },
   "file_extension": ".py",
   "mimetype": "text/x-python",
   "name": "python",
   "nbconvert_exporter": "python",
   "pygments_lexer": "ipython3",
   "version": "3.10.6"
  }
 },
 "nbformat": 4,
 "nbformat_minor": 4
}
