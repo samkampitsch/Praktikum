{
 "cells": [
  {
   "cell_type": "markdown",
   "metadata": {
    "editable": false,
    "slideshow": {
     "slide_type": ""
    },
    "tags": []
   },
   "source": [
    "# Auswertungshilfe\n",
    "\n",
    "Im Folgenden finden Sie Rezepte und kurze Anleitungen, die Ihnen bei der Auswertung der Daten helfen sollen. Sie können jedes beliebige Tool für die Auswertung verwenden, solange Sie zu einem brauchbaren Ergebnis kommen. Stark empfohlen wird die Verwendung von Python-Skripten.\n",
    "\n",
    "\n",
    "## 1. Einlesen und Korrektur\n",
    "\n",
    "Korrektur der Aufnahmen mittels der gewonnenen Bias-, Dark- und Flat-Aufnahmen (siehe bereitgestelltes PDF in Moodle). Hierfür können Python-Funktionen verwendet werden. Beispiele von einfachen Operationen, siehe auch die [Astropy Dokumentation](https://docs.astropy.org/en/stable/io/fits/).\n",
    "\n",
    "Bias, Dark und Flat Korrektur werden an die Science Frames wie folgt angewandt:\n",
    "\n",
    "$$\n",
    "\\mathrm{science frame} = \\frac{\\mathrm{raw science frame}- \\mathrm{master dark} - \\mathrm{master bias}}{\\mathrm{master flat} /  \\langle\\mathrm{master flat}\\rangle }\n",
    "$$"
   ]
  },
  {
   "cell_type": "code",
   "execution_count": null,
   "metadata": {},
   "outputs": [],
   "source": [
    "# Einlesen eines FITS-Bildes mit Header, Header enthält Metadata, Data als Matrix gespeichert\n",
    "import numpy as np\n",
    "from astropy.io import fits\n",
    "data, header = fits.getdata(\"/path/to/file.fits\", header=True)\n",
    "\n",
    "# Korrektur mittels Biasframe (Subtraktion)\n",
    "data = fits.getdata(\"/path/to/file.fits\")\n",
    "bias = fits.getdata(\"/path/to/bias.fits\")\n",
    "data_minus_bias = data - bias"
   ]
  },
  {
   "cell_type": "code",
   "execution_count": null,
   "metadata": {},
   "outputs": [],
   "source": [
    "# Finden von FITS-Bildern und Einlesen mittels List Comprehension\n",
    "from glob import glob\n",
    "\n",
    "paths_images = sorted(glob(\"/path/to/folder/with/images/*fits\"))\n",
    "data_images = [fits.getdata(path) for path in paths_images]"
   ]
  },
  {
   "cell_type": "markdown",
   "metadata": {
    "editable": false,
    "slideshow": {
     "slide_type": ""
    },
    "tags": []
   },
   "source": [
    "## 2. Stacken, Extrahieren 1D Spektrum\n",
    "\n",
    "Erstellung von gemittelten Aufnahmen zur Verbesserung des Signals und zum Zweck der Verwerfung von Ausreißern (z.B. Cosmics)."
   ]
  },
  {
   "cell_type": "code",
   "execution_count": null,
   "metadata": {},
   "outputs": [],
   "source": [
    "# Berechnung des Medians für jede Pixelsäule (z.B. für Masterbias)\n",
    "data_median = np.nanmedian(data_images, axis=0)"
   ]
  },
  {
   "cell_type": "markdown",
   "metadata": {
    "editable": false,
    "slideshow": {
     "slide_type": ""
    },
    "tags": []
   },
   "source": [
    "Extraktion eines 1-dimensionalen Spektrums: Von den kalibrierten Aufnahmen kann ein 1-dimensionales Spektrum extrahiert werden, indem ein Rechteck an der passenden Stelle ausgeschnitten wird. Darauf folgend berechnet man den Median entlang einer Pixelsäule."
   ]
  },
  {
   "cell_type": "code",
   "execution_count": null,
   "metadata": {},
   "outputs": [],
   "source": [
    "# Ausschneiden eines Rechtecks, basierend auf Pixelkoordinaten\n",
    "# Achten Sie auf die richtige Reihenfolge der x/y-Koordinaten!\n",
    "data_cutout = data[100:250, 300:320]\n",
    "\n",
    "# Alternativ entlang der gesamten x-Achse\n",
    "data_cutout = data[100:250, :]\n",
    "\n",
    "# Median entlang des Spalts für alle Pixel in Dispersionsrichtung\n",
    "spectrum_flat = np.nanmedian(data_cutout, axis=0)\n",
    "\n",
    "# Speichern als FITS-Tabelle\n",
    "from astropy.table import Table\n",
    "table = Table(data=[np.arange(len(spectrum_flat)), spectrum_flat], names=[\"Pixel\", \"Flux (ADU)\"])\n",
    "table.write(\"/path/to/table.fits\")"
   ]
  },
  {
   "cell_type": "markdown",
   "metadata": {
    "editable": false,
    "slideshow": {
     "slide_type": ""
    },
    "tags": []
   },
   "source": [
    "## 3. Kombinierte Flat Korrektur\n",
    "\n",
    "Idee: Das Flat das durch den Spektrographen aufgenommen wird enthält das Black-Body Spektrum der Tischlampe. Um dieses auszukorrigieren, nehmen wir ein zusätzliches Flat auf, das bereits korrigiert ist (Silva-Nova Spektrometer), durch welches das Spektrograph Flat dividiert werden soll. \n",
    "\n",
    "Dafür ist zu beachten dass das Wellenlängen-sampling der beiden Flats anders ist. Kontrollieren Sie nach in welchen Wellenlängbereichen die beiden Flats aufgenommen wurden. \n",
    "\n",
    "Tip: Mit Interpolieren (zB `interp1d`) kann man das erwünschte sampling für das Nova Spektrometer erhalten."
   ]
  },
  {
   "cell_type": "markdown",
   "metadata": {
    "editable": false,
    "slideshow": {
     "slide_type": ""
    },
    "tags": []
   },
   "source": [
    "## 4. Wellenlängekalibration\n",
    "Identifikation der ThAr-Linien. Zur Identifikation der Linien soll der beigelegte Linienatlas verwendet werden. Beachten Sie, dass das aufgenommene Spektrum Wellenlängen von 4200 bis 5500 abdeckt.\n",
    "\n",
    "Für das finden der peaks kann zB von `scipy.signal` die funktion `find_peaks`verwendet werden.\n"
   ]
  },
  {
   "cell_type": "markdown",
   "metadata": {
    "editable": false,
    "slideshow": {
     "slide_type": ""
    },
    "tags": []
   },
   "source": [
    "Erstellung einer Wellenlängenkalibration auf Basis der identifizierten Linien. Hierfür erstellen Sie einen Fit zwischen Pixelkoordinaten und Wellenlänge der identifizierten Linien. Sie können hierfür numpy verwenden"
   ]
  },
  {
   "cell_type": "code",
   "execution_count": null,
   "metadata": {},
   "outputs": [],
   "source": [
    "# Fit zwischen Pixel und Wellenlänge mittels Polynom 2. Ordnung\n",
    "coeff = np.polynomial.Polynomial.fit(pixel, wavelength, 2)"
   ]
  },
  {
   "cell_type": "markdown",
   "metadata": {
    "editable": false,
    "slideshow": {
     "slide_type": ""
    },
    "tags": []
   },
   "source": [
    "Die so erstellte Interpolation kann nun verwendet werden, um die Wellenlängenkalibration auf das Sonnenspektrum anzuwenden."
   ]
  },
  {
   "cell_type": "markdown",
   "metadata": {
    "editable": false,
    "slideshow": {
     "slide_type": ""
    },
    "tags": []
   },
   "source": [
    "## 5. Spektrale Auflösung\n",
    "\n",
    "Bestimmung der spektralen Auflösung aus der Breite der ThAr-Linien. Die Auflösung eines Spektrographen ist definiert durch\n",
    "$$\n",
    "        R \\equiv \\frac{\\lambda}{\\Delta \\lambda},\n",
    "$$\n",
    "wobei hier R die Auflösung des Spektrographen darstellt, $\\lambda$ die beobachtete Wellenlänge und $\\Delta \\lambda$ den kleinsten Unterschied in der Wellenlänge, den der Spektrograph auflösen kann. In der Praxis kann man für $\\Delta \\lambda$ die Full Width Half Maximum (FWHM) einer Linie bestimmen."
   ]
  },
  {
   "cell_type": "markdown",
   "metadata": {
    "editable": false,
    "slideshow": {
     "slide_type": ""
    },
    "tags": []
   },
   "source": [
    "## 6. Signal-to-Noise Ratio\n",
    "\n",
    "Abschätzung des Signal-Rausch-Verhältnisses (S/N) des Sonnenspektrums. Das S/N bei Spektren ist wegen unterschiedlicher Linienstärke wellenlängenabhängig. Die Angabe eines einzelnen S/N-Wertes für ein gesamtes Spektrum ist daher meistens nicht aussagekräftig. Zur Vereinfachung nehmen Sie an, dass die dominierende Rauschkomponente das Signal selbst ist, d.h. das Rauschen folgt einer Poissonverteilung nur abhängig vom Signal (den Gain der Kamera finden Sie im FITS-Header)."
   ]
  },
  {
   "cell_type": "code",
   "execution_count": null,
   "metadata": {},
   "outputs": [],
   "source": []
  }
 ],
 "metadata": {
  "kernelspec": {
   "display_name": "Python 3 (ipykernel)",
   "language": "python",
   "name": "python3"
  },
  "language_info": {
   "codemirror_mode": {
    "name": "ipython",
    "version": 3
   },
   "file_extension": ".py",
   "mimetype": "text/x-python",
   "name": "python",
   "nbconvert_exporter": "python",
   "pygments_lexer": "ipython3",
   "version": "3.12.4"
  }
 },
 "nbformat": 4,
 "nbformat_minor": 4
}
